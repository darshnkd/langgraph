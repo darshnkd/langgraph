{
 "cells": [
  {
   "cell_type": "markdown",
   "id": "98e12547",
   "metadata": {},
   "source": [
    "### Multiple input graph"
   ]
  },
  {
   "cell_type": "code",
   "execution_count": 24,
   "id": "ece81a87",
   "metadata": {},
   "outputs": [],
   "source": [
    "import math\n",
    "from typing import TypedDict, Dict, List\n",
    "from langgraph.graph import StateGraph"
   ]
  },
  {
   "cell_type": "code",
   "execution_count": 30,
   "id": "36e41f15",
   "metadata": {},
   "outputs": [],
   "source": [
    "class AgentState(TypedDict):\n",
    "    values : List[int]\n",
    "    name : str\n",
    "    opr : str\n",
    "    result : str\n",
    "\n",
    "def process_values(state: AgentState) -> AgentState:\n",
    "    \"\"\"This functions handles the multiple inputs\"\"\"\n",
    "    if state['opr'] == \"+\":\n",
    "        state['result'] = f\"Hello {state['name']} your sum is {sum(state['values'])}\"\n",
    "    elif state['opr']==\"*\":\n",
    "        state['result'] = f\"Hello {state['name']} your total is {math.prod(state['values'])}\"\n",
    "    else:\n",
    "        state['result'] = \"invalid\"\n",
    "    \n",
    "    return state"
   ]
  },
  {
   "cell_type": "code",
   "execution_count": 31,
   "id": "c42fdfe2",
   "metadata": {},
   "outputs": [],
   "source": [
    "graph = StateGraph(AgentState)\n",
    "graph.add_node('processer',process_values)\n",
    "graph.set_entry_point('processer')\n",
    "graph.set_finish_point('processer')\n",
    "app = graph.compile()"
   ]
  },
  {
   "cell_type": "code",
   "execution_count": 32,
   "id": "97440820",
   "metadata": {},
   "outputs": [
    {
     "data": {
      "image/png": "[encoded data removed]",
      "text/plain": [
       "<IPython.core.display.Image object>"
      ]
     },
     "metadata": {},
     "output_type": "display_data"
    }
   ],
   "source": [
    "from IPython.display import Image, display\n",
    "display(Image(app.get_graph().draw_mermaid_png()))"
   ]
  },
  {
   "cell_type": "code",
   "execution_count": 34,
   "id": "a6cf58b4",
   "metadata": {},
   "outputs": [
    {
     "name": "stdout",
     "output_type": "stream",
     "text": [
      "invalid\n"
     ]
    }
   ],
   "source": [
    "ans = app.invoke({\"values\" :[1,2,3,4],\"name\": \"Darshan\",\"opr\" : \"-\"})\n",
    "print(ans['result'])"
   ]
  },
  {
   "cell_type": "code",
   "execution_count": 35,
   "id": "a10269a6",
   "metadata": {},
   "outputs": [
    {
     "name": "stdout",
     "output_type": "stream",
     "text": [
      "Hello Darshan your sum is 10\n"
     ]
    }
   ],
   "source": [
    "ans = app.invoke({\"values\" :[1,2,3,4],\"name\": \"Darshan\",\"opr\" : \"+\"})\n",
    "print(ans['result'])"
   ]
  },
  {
   "cell_type": "code",
   "execution_count": 36,
   "id": "31c73f58",
   "metadata": {},
   "outputs": [
    {
     "name": "stdout",
     "output_type": "stream",
     "text": [
      "Hello Darshan your total is 24\n"
     ]
    }
   ],
   "source": [
    "ans = app.invoke({\"values\" :[1,2,3,4],\"name\": \"Darshan\",\"opr\" : \"*\"})\n",
    "print(ans['result'])"
   ]
  }
 ],
 "metadata": {
  "kernelspec": {
   "display_name": ".venv",
   "language": "python",
   "name": "python3"
  },
  "language_info": {
   "codemirror_mode": {
    "name": "ipython",
    "version": 3
   },
   "file_extension": ".py",
   "mimetype": "text/x-python",
   "name": "python",
   "nbconvert_exporter": "python",
   "pygments_lexer": "ipython3",
   "version": "3.13.7"
  }
 },
 "nbformat": 4,
 "nbformat_minor": 5
}
